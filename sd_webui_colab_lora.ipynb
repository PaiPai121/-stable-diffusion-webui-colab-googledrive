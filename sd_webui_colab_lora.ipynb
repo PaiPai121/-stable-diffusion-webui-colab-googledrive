{
 "cells": [
  {
   "cell_type": "markdown",
   "metadata": {
    "id": "view-in-github"
   },
   "source": [
    "[![Open In Colab](https://colab.research.google.com/assets/colab-badge.svg)](https://colab.research.google.com/github/PaiPai121/stable-diffusion-webui-colab-googledrive/blob/main/sd_webui_colab_googledrive.ipynb)"
   ]
  },
  {
   "cell_type": "code",
   "execution_count": null,
   "metadata": {},
   "outputs": [],
   "source": [
    "INPUTFILENAME = \"Sophon\"\n",
    "\n",
    "#切换到python3.10\n",
    "!wget https://github.com/korakot/kora/releases/download/v0.10/py310.sh\n",
    "!bash ./py310.sh -b -f -p /usr/local\n",
    "!python -m ipykernel install --name \"py310\" --user\n",
    "\n",
    "#查看是什么GPU\n",
    "!nvidia-smi\n",
    "#挂载谷歌硬盘\n",
    "from google.colab import drive\n",
    "drive.mount('/content/drive/')\n",
    "!echo \"google硬盘挂载完成.\"\n",
    "\n",
    "# 安装aria2下载器，便于下载模型等\n",
    "!apt -qq install liblz4-tool aria2\n",
    "\n",
    "#从Akegarasu的git仓库下载Lora训练模型\n",
    "!git clone --recurse-submodules https://github.com/Akegarasu/lora-scripts\n",
    "!echo \"git的lora库克隆完成.\"\n",
    "!cd lora-scripts && git pull && git submodule update --init --recursive\n",
    "!echo \"更新完成.\"\n",
    "\n",
    "#安装其他依赖\n",
    "%cd /content/lora-scripts/sd-scripts/\n",
    "!pip -q install --upgrade -r requirements.txt\n",
    "\n",
    "#安装xformers 0.0.16版本\n",
    "!pip install xformers==0.0.16\n",
    "\n",
    "#安装Triton\n",
    "!pip -q install triton==2.0.0.dev20221202\n",
    "\n",
    "#安装lion\n",
    "!pip -q install --upgrade lion-pytorch locon\n",
    "\n",
    "#从谷歌硬盘中拷贝你之前上传的训练材料\n",
    "!mkdir -p /content/lora-scripts/train/$INPUTFILENAME\n",
    "!cp -r /content/drive/MyDrive/Lora/input/* /content/lora-scripts/train/$INPUTFILENAME\n",
    "!echo \"copy训练材料完成.\"\n",
    "\n",
    "#拷贝正则化图片\n",
    "!mkdir -p /content/lora-scripts/train/reg/\n",
    "!cp -r /content/drive/MyDrive/Lora/reg/* /content/lora-scripts/train/reg/\n",
    "!echo \"copy正则化图片完成.\"\n",
    "\n",
    "%cd /content/lora-scripts\n",
    "\n",
    "import os\n",
    "def downloadModels(url):\n",
    "    os.system('aria2c -s 5 -x 10 -d /content/lora-scripts/sd-models '+ url)\n",
    "    os.system('echo \"下载完成\"')\n",
    "\n",
    "######################################## 下载模型部分，可修改\n",
    "\n",
    "# 默认先下载这几个model，如果有其他想要的可以继续加\n",
    "urls = ['https://civitai.com/api/download/models/11745', # chilloutmix\n",
    "        'https://civitai.com/api/download/models/16619', # grapefruithentaimodel\n",
    "        'https://civitai.com/api/download/models/7425', # counterfeit\n",
    "        ]\n",
    "\n",
    "for url in urls:\n",
    "    # 下载list中的所有models\n",
    "    downloadModels(url)\n",
    "\n",
    "def moveModelsfromGoogleDrive():\n",
    "    path = \"/content/drive/MyDrive/stable-diffusion-webui/models/Stable-diffusion/*\" # 一个示例，MyDrive后面是模型在google drive中的路径\n",
    "    os.system(\"cp -r \"+ path + \" /content/lora-scripts/sd-models\")\n",
    "\n",
    "# moveModelsfromGoogleDrive() # 需要使用时打开\n",
    "\n",
    "\n",
    "\n",
    "########################################\n",
    "########################################\n",
    "# 调整训练参数等\n",
    "# 此处我在云盘中保存了一个调整好的训练文件 train.sh并放在了谷歌云盘下的lora-scrpits/train.sh\n",
    "########################################\n",
    "########################################\n",
    "\n",
    "!cp -r /content/drive/MyDrive/lora/train.sh /content/lora-scripts"
   ]
  },
  {
   "attachments": {},
   "cell_type": "markdown",
   "metadata": {},
   "source": [
    "如有需要继续修改，打开*/content/lora-scripts/train.sh*\n"
   ]
  },
  {
   "cell_type": "code",
   "execution_count": null,
   "metadata": {},
   "outputs": [],
   "source": [
    "##################注意！！！请先修改配置文件！！！###########################\n",
    "\n",
    "## 每次修改完训练文件后运行这个cell即可进行训练，如果想再执行从谷歌云盘中将图片素材拷贝入colab请先执行下一个cell\n",
    "\n",
    "#开始训练！\n",
    "%cd /content/lora-scripts/\n",
    "!bash train.sh\n",
    "\n",
    "!echo \"完成了 XXXD.\"\n",
    "!cp /content/lora-scripts/output/ /content/drive/MyDrive/lora/output"
   ]
  },
  {
   "cell_type": "code",
   "execution_count": null,
   "metadata": {},
   "outputs": [],
   "source": [
    "#从谷歌硬盘中拷贝你之前上传的训练材料\n",
    "!mkdir -p /content/lora-scripts/train/Sophon/\n",
    "!cp -r /content/drive/MyDrive/Lora/input/* /content/lora-scripts/train/Sophon/\n",
    "!echo \"copy训练材料完成.\"\n",
    "\n",
    "#拷贝正则化图片\n",
    "!mkdir -p /content/lora-scripts/train/reg/\n",
    "!cp -r /content/drive/MyDrive/Lora/reg/* /content/lora-scripts/train/reg/\n",
    "!echo \"copy正则化图片完成.\"\n",
    "#接下来请运行训练等cell"
   ]
  }
 ],
 "metadata": {
  "accelerator": "GPU",
  "colab": {
   "collapsed_sections": [],
   "private_outputs": true,
   "provenance": []
  },
  "gpuClass": "standard",
  "kernelspec": {
   "display_name": "Python 3",
   "language": "python",
   "name": "python3"
  },
  "language_info": {
   "name": "python",
   "version": "3.10.4"
  },
  "orig_nbformat": 4,
  "vscode": {
   "interpreter": {
    "hash": "aee8b7b246df8f9039afb4144a1f6fd8d2ca17a180786b69acc140d282b71a49"
   }
  }
 },
 "nbformat": 4,
 "nbformat_minor": 2
}
